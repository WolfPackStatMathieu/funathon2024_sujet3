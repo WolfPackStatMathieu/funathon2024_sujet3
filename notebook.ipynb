{
 "cells": [
  {
   "cell_type": "markdown",
   "metadata": {},
   "source": [
    "1. Initialiser un client FlightRadar24API."
   ]
  },
  {
   "cell_type": "code",
   "execution_count": 69,
   "metadata": {},
   "outputs": [],
   "source": [
    "from FlightRadar24 import FlightRadar24API\n",
    "fr_api = FlightRadar24API()"
   ]
  },
  {
   "cell_type": "code",
   "execution_count": 73,
   "metadata": {},
   "outputs": [
    {
     "name": "stdout",
     "output_type": "stream",
     "text": [
      "Informations récupérées sur 5 vols.\n",
      "Informations récupérées sur 1500 vols.\n"
     ]
    }
   ],
   "source": [
    "new_flight_tracker = fr_api.get_flight_tracker_config()\n",
    "new_flight_tracker.limit = 5\n",
    "fr_api.set_flight_tracker_config(new_flight_tracker)\n",
    "flights = fr_api.get_flights()\n",
    "print(f\"Informations récupérées sur {len(flights)} vols.\")\n",
    "\n",
    "fr_api = FlightRadar24API()\n",
    "flights = fr_api.get_flights()\n",
    "print(f\"Informations récupérées sur {len(flights)} vols.\")"
   ]
  },
  {
   "cell_type": "markdown",
   "metadata": {},
   "source": [
    "2. En utilisant le client, compter le nombre de compagnies aériennes."
   ]
  },
  {
   "cell_type": "code",
   "execution_count": 2,
   "metadata": {},
   "outputs": [],
   "source": [
    "airlines = fr_api.get_airlines()"
   ]
  },
  {
   "cell_type": "code",
   "execution_count": 10,
   "metadata": {},
   "outputs": [
    {
     "name": "stdout",
     "output_type": "stream",
     "text": [
      "Il y a 2145 compagnies aériennes différentes dont on peut récupérer les vols.\n"
     ]
    }
   ],
   "source": [
    "print(f\"Il y a {len(airlines)} compagnies aériennes différentes dont on peut récupérer les vols.\")"
   ]
  },
  {
   "cell_type": "markdown",
   "metadata": {},
   "source": [
    "3. Compter le nombre de zones géographiques utilisables et en afficher une selection."
   ]
  },
  {
   "cell_type": "code",
   "execution_count": 11,
   "metadata": {},
   "outputs": [],
   "source": [
    "zones = fr_api.get_zones()"
   ]
  },
  {
   "cell_type": "code",
   "execution_count": 33,
   "metadata": {},
   "outputs": [
    {
     "name": "stdout",
     "output_type": "stream",
     "text": [
      "Il y a 9 zones, dont europe, northamerica, et southamerica\n"
     ]
    }
   ],
   "source": [
    "\n",
    "liste_zones = list(zones.keys())\n",
    "print(f\"Il y a {len(liste_zones)} zones, dont {liste_zones[0]}, {liste_zones[1]}, et {liste_zones[2]}\")"
   ]
  },
  {
   "cell_type": "code",
   "execution_count": 40,
   "metadata": {},
   "outputs": [
    {
     "name": "stdout",
     "output_type": "stream",
     "text": [
      "dict_keys(['tl_y', 'tl_x', 'br_y', 'br_x', 'subzones'])\n"
     ]
    }
   ],
   "source": [
    "print(zones[\"europe\"].keys())"
   ]
  },
  {
   "cell_type": "markdown",
   "metadata": {},
   "source": [
    "4. On souhaite maintenant récupérer les vols de Boeing 77W en activité en Europe de la compagnie aérienne Air France. Utiliser la méthode FlightRadar24API.get_flights pour donner un compte de ces vols. La chaîne de caractères qui représente Air France est \"AFR\" et celle qui représente le type d’aéronef est \"B77W\"."
   ]
  },
  {
   "cell_type": "code",
   "execution_count": 50,
   "metadata": {},
   "outputs": [
    {
     "name": "stdout",
     "output_type": "stream",
     "text": [
      "11\n"
     ]
    }
   ],
   "source": [
    "zone = fr_api.get_zones()[\"europe\"]\n",
    "\n",
    "bounds = fr_api.get_bounds(zone)\n",
    "aircraft_type = \"B77W\"\n",
    "airline_icao = \"AFR\"\n",
    "AirFrance_77W_europe = fr_api.get_flights(\n",
    "    aircraft_type = aircraft_type,\n",
    "    airline = airline_icao,\n",
    "    bounds = bounds\n",
    ")\n",
    "print(len(AirFrance_77W_europe))\n",
    "    \n"
   ]
  },
  {
   "cell_type": "markdown",
   "metadata": {},
   "source": [
    "5. Il est possible de changer la configuration du client avec les méthodes FlightRadar24API.get_flight_tracker_config et FlightRadar24API.set_flight_tracker_config. Changer la configuration pour récupérer 5 vols à l’aide de la méthode FlightRadar24API.get_flights sans fournir d’argument."
   ]
  },
  {
   "cell_type": "code",
   "execution_count": 74,
   "metadata": {},
   "outputs": [
    {
     "name": "stdout",
     "output_type": "stream",
     "text": [
      "Informations récupérées sur 5 vols.\n"
     ]
    }
   ],
   "source": [
    "flight_tracker = fr_api.get_flight_tracker_config()\n",
    "flight_tracker.limit = 5\n",
    "fr_api.set_flight_tracker_config(flight_tracker)\n",
    "\n",
    "flights = fr_api.get_flights()\n",
    "print(f\"Informations récupérées sur {len(flights)} vols.\")\n",
    "fr_api = FlightRadar24API()"
   ]
  },
  {
   "cell_type": "markdown",
   "metadata": {},
   "source": [
    "7. Pour analyser les détails d’un vol, il faut utiliser les méthodes FlightRadar24API.get_flight_details pour collecter les détails d’un vol précis via l’API, puis Flight.set_flight_details pour les attribuer à ce vol (car seulement quelques informations sont collectées par défaut). Explorer les informations disponibles sur un vol (objet de la classe Flight), par exemple en listant les attribus avec la commande dir(my_flight). On pourra notamment regarder les attributs suivants :"
   ]
  },
  {
   "cell_type": "code",
   "execution_count": 106,
   "metadata": {},
   "outputs": [
    {
     "name": "stdout",
     "output_type": "stream",
     "text": [
      "['_Flight__get_info', '__abstractmethods__', '__class__', '__delattr__', '__dict__', '__dir__', '__doc__', '__eq__', '__format__', '__ge__', '__getattribute__', '__getstate__', '__gt__', '__hash__', '__init__', '__init_subclass__', '__le__', '__lt__', '__module__', '__ne__', '__new__', '__reduce__', '__reduce_ex__', '__repr__', '__setattr__', '__sizeof__', '__slots__', '__str__', '__subclasshook__', '__weakref__', '_abc_impl', '_default_text', 'aircraft_age', 'aircraft_code', 'aircraft_country_id', 'aircraft_history', 'aircraft_images', 'aircraft_model', 'airline_iata', 'airline_icao', 'airline_name', 'airline_short_name', 'altitude', 'callsign', 'check_info', 'destination_airport_altitude', 'destination_airport_baggage', 'destination_airport_country_code', 'destination_airport_country_name', 'destination_airport_gate', 'destination_airport_iata', 'destination_airport_icao', 'destination_airport_latitude', 'destination_airport_longitude', 'destination_airport_name', 'destination_airport_terminal', 'destination_airport_timezone_abbr', 'destination_airport_timezone_abbr_name', 'destination_airport_timezone_name', 'destination_airport_timezone_offset', 'destination_airport_timezone_offset_hours', 'destination_airport_visible', 'destination_airport_website', 'get_altitude', 'get_distance_from', 'get_flight_level', 'get_ground_speed', 'get_heading', 'get_vertical_speed', 'ground_speed', 'heading', 'icao_24bit', 'id', 'latitude', 'longitude', 'number', 'on_ground', 'origin_airport_altitude', 'origin_airport_baggage', 'origin_airport_country_code', 'origin_airport_country_name', 'origin_airport_gate', 'origin_airport_iata', 'origin_airport_icao', 'origin_airport_latitude', 'origin_airport_longitude', 'origin_airport_name', 'origin_airport_terminal', 'origin_airport_timezone_abbr', 'origin_airport_timezone_abbr_name', 'origin_airport_timezone_name', 'origin_airport_timezone_offset', 'origin_airport_timezone_offset_hours', 'origin_airport_visible', 'origin_airport_website', 'registration', 'set_flight_details', 'squawk', 'status_icon', 'status_text', 'time', 'time_details', 'trail', 'vertical_speed']\n",
      "Flying to N/A\n",
      "Latitude de l aéronef: 41.1288\n",
      "Longitude de l aéronef: -98.9826\n",
      "Identifiant du vol: 356a8712\n",
      "Identifiant de l aéronef: A25CE6\n",
      "Cap de vol (en degrés): 140\n",
      "Altitude (en pieds): 59700\n",
      "Vitesse au sol (en noeuds): 7\n",
      "Type d aéronef: BALL\n",
      "Aéroport d origine: N/A\n",
      "Aéroport de destination: N/A\n",
      "Code IATA de compagnie aérienne: \n",
      "Vitesse verticale (en pieds par minute): -128\n",
      "Code ICAO de compagnie aérienn: \n",
      "Le volA25CE6 au départ de l'aéroport N/A et à destination de N/A se déplace à une vitesse de 7 noeuds.\n",
      "Le vol 35cf4081 au départ de l'aéroport N/A et à destination de N/A se déplace à une vitesse de 8 noeuds.\n",
      "L'appareil est un aéronef BALL de la compagnie .\n"
     ]
    }
   ],
   "source": [
    "type(flights)\n",
    "flights[0]\n",
    "type(flights[0])\n",
    "flight = flights [0]\n",
    "flight_details = fr_api.get_flight_details(flight)\n",
    "flight.set_flight_details(flight_details)\n",
    "print(dir(flight))\n",
    "print(\"Flying to\", flight.destination_airport_name)\n",
    "print(f\"Latitude de l aéronef: {flight.latitude}\")\n",
    "print(f\"Longitude de l aéronef: {flight.longitude}\")\n",
    "print(f\"Identifiant du vol: {flight.id}\")\n",
    "print(f\"Identifiant de l aéronef: {flight.icao_24bit}\")\n",
    "print(f\"Cap de vol (en degrés): {flight.heading}\")\n",
    "print(f\"Altitude (en pieds): {flight.altitude}\")\n",
    "print(f\"Vitesse au sol (en noeuds): {flight.ground_speed}\")\n",
    "print(f\"Type d aéronef: {flight.aircraft_code}\")\n",
    "print(f\"Aéroport d origine: {flight.origin_airport_name}\")\n",
    "print(f\"Aéroport de destination: {flight.destination_airport_name}\")\n",
    "print(f\"Code IATA de compagnie aérienne: {flight.airline_iata}\")\n",
    "print(f\"Vitesse verticale (en pieds par minute): {flight.vertical_speed}\")\n",
    "print(f\"Code ICAO de compagnie aérienn: {flight.airline_icao}\")\n",
    "\n",
    "print(f\"Le vol{flight.icao_24bit} au départ de l'aéroport {flight.origin_airport_name} \\\n",
    "et à destination de {flight.destination_airport_name} se déplace à une vitesse de {flight.ground_speed} noeuds.\")\n",
    "print(\n",
    "  f\"L'appareil est un aéronef {flight.aircraft_code} de la compagnie {flight.airline_icao}.\"\n",
    ")"
   ]
  },
  {
   "cell_type": "code",
   "execution_count": null,
   "metadata": {},
   "outputs": [],
   "source": [
    "\n",
    "fr_api.get_flight_details(flight=flights[0])"
   ]
  }
 ],
 "metadata": {
  "kernelspec": {
   "display_name": "base",
   "language": "python",
   "name": "python3"
  },
  "language_info": {
   "codemirror_mode": {
    "name": "ipython",
    "version": 3
   },
   "file_extension": ".py",
   "mimetype": "text/x-python",
   "name": "python",
   "nbconvert_exporter": "python",
   "pygments_lexer": "ipython3",
   "version": "3.12.3"
  }
 },
 "nbformat": 4,
 "nbformat_minor": 2
}
